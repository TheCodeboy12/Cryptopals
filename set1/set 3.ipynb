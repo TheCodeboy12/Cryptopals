{
 "cells": [
  {
   "cell_type": "code",
   "execution_count": 2,
   "id": "6a9d88c9",
   "metadata": {},
   "outputs": [],
   "source": [
    "occurance_english = {\n",
    "    'a': 8.2389258,    'b': 1.5051398,    'c': 2.8065007,    'd': 4.2904556,\n",
    "    'e': 12.813865,    'f': 2.2476217,    'g': 2.0327458,    'h': 6.1476691,\n",
    "    'i': 6.1476691,    'j': 0.1543474,    'k': 0.7787989,    'l': 4.0604477,\n",
    "    'm': 2.4271893,    'n': 6.8084376,    'o': 7.5731132,    'p': 1.9459884,\n",
    "    'q': 0.0958366,    'r': 6.0397268,    's': 6.3827211,    't': 9.1357551,\n",
    "    'u': 2.7822893,    'v': 0.9866131,    'w': 2.3807842,    'x': 0.1513210,\n",
    "    'y': 1.9913847,    'z': 0.0746517\n",
    "}\n",
    "\n",
    "hexencodedstring='1b37373331363f78151b7f2b783431333d78397828372d363c78373e783a393b3736'"
   ]
  },
  {
   "cell_type": "code",
   "execution_count": 50,
   "id": "2ef8a31e",
   "metadata": {},
   "outputs": [],
   "source": [
    "def hextobin(x):\n",
    "    return bytes.fromhex(x)\n",
    "def chartobyte(chrr):\n",
    "    return bytes(chrr,\"ASCII\")[0]\n",
    "def converttostr(somebyte):\n",
    "    pass"
   ]
  },
  {
   "cell_type": "code",
   "execution_count": 95,
   "id": "9c554439",
   "metadata": {},
   "outputs": [
    {
     "data": {
      "text/plain": [
       "'11011'"
      ]
     },
     "execution_count": 95,
     "metadata": {},
     "output_type": "execute_result"
    }
   ],
   "source": [
    "bin(hextobin(hexencodedstring)[0])[2::]"
   ]
  },
  {
   "cell_type": "code",
   "execution_count": 96,
   "id": "d4cd6df1",
   "metadata": {},
   "outputs": [
    {
     "data": {
      "text/plain": [
       "44"
      ]
     },
     "execution_count": 96,
     "metadata": {},
     "output_type": "execute_result"
    }
   ],
   "source": [
    "int('110111',2)^int('011011',2)"
   ]
  },
  {
   "cell_type": "code",
   "execution_count": 170,
   "id": "9a375b82",
   "metadata": {},
   "outputs": [],
   "source": [
    "binaryhex=[bin(byte)[2::].zfill(7) for byte in bytearray.fromhex(hexencodedstring)] #longest byte is 7 chars long in binary\n",
    "#takes the hex and converts it to binary bytes"
   ]
  },
  {
   "cell_type": "code",
   "execution_count": 340,
   "id": "793fb0d6",
   "metadata": {},
   "outputs": [
    {
     "data": {
      "text/plain": [
       "'\\x1b77316?x\\x15\\x1b\\x7f+x413=x9x(7-6<x7>x:9;76'"
      ]
     },
     "execution_count": 340,
     "metadata": {},
     "output_type": "execute_result"
    }
   ],
   "source": [
    "bytearray.fromhex(hexencodedstring).decode()"
   ]
  },
  {
   "cell_type": "code",
   "execution_count": 339,
   "id": "4f1c6166",
   "metadata": {},
   "outputs": [
    {
     "ename": "LookupError",
     "evalue": "'hex' is not a text encoding; use codecs.encode() to handle arbitrary codecs",
     "output_type": "error",
     "traceback": [
      "\u001b[0;31m---------------------------------------------------------------------------\u001b[0m",
      "\u001b[0;31mLookupError\u001b[0m                               Traceback (most recent call last)",
      "\u001b[0;32m/var/folders/9v/jv8k7p210yx38k8r24vjg4th0000gn/T/ipykernel_15377/3131379370.py\u001b[0m in \u001b[0;36m<module>\u001b[0;34m\u001b[0m\n\u001b[0;32m----> 1\u001b[0;31m \u001b[0mhexencodedstring\u001b[0m\u001b[0;34m.\u001b[0m\u001b[0mencode\u001b[0m\u001b[0;34m(\u001b[0m\u001b[0;34m'hex'\u001b[0m\u001b[0;34m)\u001b[0m\u001b[0;34m\u001b[0m\u001b[0;34m\u001b[0m\u001b[0m\n\u001b[0m",
      "\u001b[0;31mLookupError\u001b[0m: 'hex' is not a text encoding; use codecs.encode() to handle arbitrary codecs"
     ]
    }
   ],
   "source": [
    "[bin(byte) for byte in bytearray('a', \"utf8\")][0][2::]"
   ]
  },
  {
   "cell_type": "code",
   "execution_count": 172,
   "id": "2e0235de",
   "metadata": {},
   "outputs": [],
   "source": [
    "charsbin=[bin(bytes(char, \"utf8\")[0])[2::] for char in occurance_english.keys()] # chars from dic in binary"
   ]
  },
  {
   "cell_type": "code",
   "execution_count": 173,
   "id": "9ef7a2bf",
   "metadata": {},
   "outputs": [
    {
     "data": {
      "text/plain": [
       "['1100001',\n",
       " '1100010',\n",
       " '1100011',\n",
       " '1100100',\n",
       " '1100101',\n",
       " '1100110',\n",
       " '1100111',\n",
       " '1101000',\n",
       " '1101001',\n",
       " '1101010',\n",
       " '1101011',\n",
       " '1101100',\n",
       " '1101101',\n",
       " '1101110',\n",
       " '1101111',\n",
       " '1110000',\n",
       " '1110001',\n",
       " '1110010',\n",
       " '1110011',\n",
       " '1110100',\n",
       " '1110101',\n",
       " '1110110',\n",
       " '1110111',\n",
       " '1111000',\n",
       " '1111001',\n",
       " '1111010']"
      ]
     },
     "execution_count": 173,
     "metadata": {},
     "output_type": "execute_result"
    }
   ],
   "source": [
    "charsbin"
   ]
  },
  {
   "cell_type": "code",
   "execution_count": 174,
   "id": "a2ea9718",
   "metadata": {},
   "outputs": [
    {
     "data": {
      "text/plain": [
       "[(11011, 1100001),\n",
       " (110111, 1100010),\n",
       " (110111, 1100011),\n",
       " (110011, 1100100),\n",
       " (110001, 1100101),\n",
       " (110110, 1100110),\n",
       " (111111, 1100111),\n",
       " (1111000, 1101000),\n",
       " (10101, 1101001),\n",
       " (11011, 1101010),\n",
       " (1111111, 1101011),\n",
       " (101011, 1101100),\n",
       " (1111000, 1101101),\n",
       " (110100, 1101110),\n",
       " (110001, 1101111),\n",
       " (110011, 1110000),\n",
       " (111101, 1110001),\n",
       " (1111000, 1110010),\n",
       " (111001, 1110011),\n",
       " (1111000, 1110100),\n",
       " (101000, 1110101),\n",
       " (110111, 1110110),\n",
       " (101101, 1110111),\n",
       " (110110, 1111000),\n",
       " (111100, 1111001),\n",
       " (1111000, 1111010)]"
      ]
     },
     "execution_count": 174,
     "metadata": {},
     "output_type": "execute_result"
    }
   ],
   "source": [
    "[(int(a),int(b)) for (a,b) in zip(binaryhex,charsbin)] #gives me tuples of both lists"
   ]
  },
  {
   "cell_type": "code",
   "execution_count": 187,
   "id": "40b0ae0a",
   "metadata": {},
   "outputs": [
    {
     "data": {
      "text/plain": [
       "[1106914,\n",
       " 1140469,\n",
       " 1140468,\n",
       " 1139967,\n",
       " 1139956,\n",
       " 1140560,\n",
       " 1145672,\n",
       " 16144,\n",
       " 1108924,\n",
       " 1107921,\n",
       " 14484,\n",
       " 1132479,\n",
       " 16117,\n",
       " 1139490,\n",
       " 1138822,\n",
       " 1131083,\n",
       " 1138188,\n",
       " 7202,\n",
       " 1138274,\n",
       " 908,\n",
       " 1145565,\n",
       " 1138241,\n",
       " 1145522,\n",
       " 1138118,\n",
       " 1131045,\n",
       " 58]"
      ]
     },
     "execution_count": 187,
     "metadata": {},
     "output_type": "execute_result"
    }
   ],
   "source": [
    "[(int(a)^int(b)) for (a,b) in zip(binaryhex,charsbin)] #XOR the tuples of both lists"
   ]
  },
  {
   "cell_type": "code",
   "execution_count": 195,
   "id": "43fa63d0",
   "metadata": {},
   "outputs": [
    {
     "name": "stdout",
     "output_type": "stream",
     "text": [
      "122\n",
      "86\n",
      "86\n",
      "82\n",
      "80\n",
      "87\n",
      "94\n",
      "25\n",
      "116\n",
      "122\n",
      "30\n",
      "74\n",
      "25\n",
      "85\n",
      "80\n",
      "82\n",
      "92\n",
      "25\n",
      "88\n",
      "25\n",
      "73\n",
      "86\n",
      "76\n",
      "87\n",
      "93\n",
      "25\n",
      "86\n",
      "95\n",
      "25\n",
      "91\n",
      "88\n",
      "90\n",
      "86\n",
      "87\n"
     ]
    }
   ],
   "source": [
    "#doing one example\n",
    "for x in binaryhex:\n",
    "    print(int(x,2)^int(charsbin[0],2))"
   ]
  },
  {
   "cell_type": "code",
   "execution_count": 277,
   "id": "288b385d",
   "metadata": {},
   "outputs": [
    {
     "data": {
      "text/plain": [
       "'1b37373331363f78151b7f2b783431333d78397828372d363c78373e783a393b3736'"
      ]
     },
     "execution_count": 277,
     "metadata": {},
     "output_type": "execute_result"
    }
   ],
   "source": [
    "hexencodedstring"
   ]
  },
  {
   "cell_type": "code",
   "execution_count": 300,
   "id": "35ca7f31",
   "metadata": {},
   "outputs": [
    {
     "data": {
      "text/plain": [
       "b'\\x1b77316?x\\x15\\x1b\\x7f+x413=x9x(7-6<x7>x:9;76'"
      ]
     },
     "execution_count": 300,
     "metadata": {},
     "output_type": "execute_result"
    }
   ],
   "source": [
    "bytes(bytearray.fromhex(hexencodedstring)) #string to bytes and this is the first byte AKA the char '1'"
   ]
  },
  {
   "cell_type": "code",
   "execution_count": 260,
   "id": "6b65ac70",
   "metadata": {},
   "outputs": [
    {
     "data": {
      "text/plain": [
       "'11011'"
      ]
     },
     "execution_count": 260,
     "metadata": {},
     "output_type": "execute_result"
    }
   ],
   "source": [
    "bin(bytearray.fromhex(hexencodedstring)[0])[2::] #binary of the byte of Hey letter ' 1'"
   ]
  },
  {
   "cell_type": "code",
   "execution_count": 275,
   "id": "2de4a035",
   "metadata": {},
   "outputs": [
    {
     "data": {
      "text/plain": [
       "'7'"
      ]
     },
     "execution_count": 275,
     "metadata": {},
     "output_type": "execute_result"
    }
   ],
   "source": [
    "chr(bytearray.fromhex(hexencodedstring)[1])"
   ]
  },
  {
   "cell_type": "code",
   "execution_count": 243,
   "id": "ee08bab1",
   "metadata": {},
   "outputs": [
    {
     "ename": "TypeError",
     "evalue": "unsupported operand type(s) for ^: 'str' and 'str'",
     "output_type": "error",
     "traceback": [
      "\u001b[0;31m---------------------------------------------------------------------------\u001b[0m",
      "\u001b[0;31mTypeError\u001b[0m                                 Traceback (most recent call last)",
      "\u001b[0;32m/var/folders/9v/jv8k7p210yx38k8r24vjg4th0000gn/T/ipykernel_15377/1429081384.py\u001b[0m in \u001b[0;36m<module>\u001b[0;34m\u001b[0m\n\u001b[0;32m----> 1\u001b[0;31m \u001b[0mbin\u001b[0m\u001b[0;34m(\u001b[0m\u001b[0mbytes\u001b[0m\u001b[0;34m(\u001b[0m\u001b[0;34m'a'\u001b[0m\u001b[0;34m,\u001b[0m \u001b[0;34m\"utf8\"\u001b[0m\u001b[0;34m)\u001b[0m\u001b[0;34m[\u001b[0m\u001b[0;36m0\u001b[0m\u001b[0;34m]\u001b[0m\u001b[0;34m)\u001b[0m\u001b[0;34m^\u001b[0m\u001b[0mbin\u001b[0m\u001b[0;34m(\u001b[0m\u001b[0mbytes\u001b[0m\u001b[0;34m(\u001b[0m\u001b[0;34m'b'\u001b[0m\u001b[0;34m,\u001b[0m \u001b[0;34m\"utf8\"\u001b[0m\u001b[0;34m)\u001b[0m\u001b[0;34m[\u001b[0m\u001b[0;36m0\u001b[0m\u001b[0;34m]\u001b[0m\u001b[0;34m)\u001b[0m\u001b[0;34m\u001b[0m\u001b[0;34m\u001b[0m\u001b[0m\n\u001b[0m",
      "\u001b[0;31mTypeError\u001b[0m: unsupported operand type(s) for ^: 'str' and 'str'"
     ]
    }
   ],
   "source": [
    "bin(bytes('a', \"utf8\")[0])^bin(bytes('b', \"utf8\")[0])"
   ]
  },
  {
   "cell_type": "code",
   "execution_count": 305,
   "id": "5e30b64f",
   "metadata": {},
   "outputs": [
    {
     "data": {
      "text/plain": [
       "1140048"
      ]
     },
     "execution_count": 305,
     "metadata": {},
     "output_type": "execute_result"
    }
   ],
   "source": [
    "int(bin('1'.encode('ascii')[0])[2::])^int(bin('a'.encode('ascii')[0])[2::]) # !!!!!!!"
   ]
  },
  {
   "cell_type": "code",
   "execution_count": 306,
   "id": "5fbb66ef",
   "metadata": {},
   "outputs": [
    {
     "data": {
      "text/plain": [
       "1100001"
      ]
     },
     "execution_count": 306,
     "metadata": {},
     "output_type": "execute_result"
    }
   ],
   "source": [
    "int(bin('a'.encode('ascii')[0])[2::])"
   ]
  },
  {
   "cell_type": "code",
   "execution_count": 308,
   "id": "3c38fb9b",
   "metadata": {},
   "outputs": [
    {
     "data": {
      "text/plain": [
       "110001"
      ]
     },
     "execution_count": 308,
     "metadata": {},
     "output_type": "execute_result"
    }
   ],
   "source": [
    "int(bin('1'.encode('ascii')[0])[2::].zfill(7))"
   ]
  },
  {
   "cell_type": "code",
   "execution_count": 325,
   "id": "477b2678",
   "metadata": {},
   "outputs": [
    {
     "data": {
      "text/plain": [
       "'00000000000000000000000000000000000000000000000000000000000000000006'"
      ]
     },
     "execution_count": 325,
     "metadata": {},
     "output_type": "execute_result"
    }
   ],
   "source": [
    "hex('a'.encode('ascii')[0])[::2].zfill(len(hexencodedstring)) #Hex version of a char"
   ]
  },
  {
   "cell_type": "code",
   "execution_count": 332,
   "id": "2b971382",
   "metadata": {},
   "outputs": [
    {
     "data": {
      "text/plain": [
       "'06'"
      ]
     },
     "execution_count": 332,
     "metadata": {},
     "output_type": "execute_result"
    }
   ],
   "source": [
    "hex('a'.encode('ascii')[0])[::2]"
   ]
  },
  {
   "cell_type": "code",
   "execution_count": 347,
   "id": "e01fb757",
   "metadata": {},
   "outputs": [],
   "source": [
    "def fixed_XOR(hex1,comparedhex):\n",
    "\t'''\n",
    "\tFirst we get two hexes then we turn them to bytearrays .fromhex\n",
    "\tWe check if their byte lengh is equal since we cant XOR them if they are not\n",
    "\tThen I basically zip the two byte arrays which turns them into tu\n",
    "\t'''\n",
    "\tassert len(bytearray.fromhex(hex1))==len(bytearray.fromhex(comparedhex)), \"You must pass equal-length objects\"\n",
    "\treturn bytearray.fromhex(''.join([bytes([a ^ b]).hex() for a, b in zip(bytearray.fromhex(hex1), bytearray.fromhex(comparedhex))])).decode()\n"
   ]
  },
  {
   "cell_type": "code",
   "execution_count": 348,
   "id": "a62e0d27",
   "metadata": {},
   "outputs": [
    {
     "name": "stdout",
     "output_type": "stream",
     "text": [
      "['\\x1d']\n",
      "['\\x1d']\n",
      "['\\x1d']\n",
      "['\\x1d']\n",
      "['\\x1d']\n",
      "['\\x1d']\n",
      "['\\x1d']\n",
      "['\\x1d']\n",
      "['\\x1d']\n",
      "['\\x1d']\n",
      "['\\x1d']\n",
      "['\\x1d']\n",
      "['\\x1d']\n",
      "['\\x1d']\n",
      "['\\x1d']\n",
      "['\\x1c']\n",
      "['\\x1c']\n",
      "['\\x1c']\n",
      "['\\x1c']\n",
      "['\\x1c']\n",
      "['\\x1c']\n",
      "['\\x1c']\n",
      "['\\x1c']\n",
      "['\\x1c']\n",
      "['\\x1c']\n",
      "['\\x1c']\n"
     ]
    }
   ],
   "source": [
    "for k in occurance_english.keys():\n",
    "    print([fixed_XOR(hexencodedstring,hex(k.encode('ascii')[0])[::2])])"
   ]
  },
  {
   "cell_type": "code",
   "execution_count": 370,
   "id": "152fc2cb",
   "metadata": {},
   "outputs": [
    {
     "ename": "TypeError",
     "evalue": "'bytes' object cannot be interpreted as an integer",
     "output_type": "error",
     "traceback": [
      "\u001b[0;31m---------------------------------------------------------------------------\u001b[0m",
      "\u001b[0;31mTypeError\u001b[0m                                 Traceback (most recent call last)",
      "\u001b[0;32m/var/folders/9v/jv8k7p210yx38k8r24vjg4th0000gn/T/ipykernel_15377/1831454121.py\u001b[0m in \u001b[0;36m<module>\u001b[0;34m\u001b[0m\n\u001b[0;32m----> 1\u001b[0;31m \u001b[0mbytearray\u001b[0m\u001b[0;34m.\u001b[0m\u001b[0mfromhex\u001b[0m\u001b[0;34m(\u001b[0m\u001b[0mhex\u001b[0m\u001b[0;34m(\u001b[0m\u001b[0;34m'alol'\u001b[0m\u001b[0;34m.\u001b[0m\u001b[0mencode\u001b[0m\u001b[0;34m(\u001b[0m\u001b[0;34m'ascii'\u001b[0m\u001b[0;34m)\u001b[0m\u001b[0;34m)\u001b[0m\u001b[0;34m)\u001b[0m\u001b[0;34m.\u001b[0m\u001b[0mdecode\u001b[0m\u001b[0;34m(\u001b[0m\u001b[0;34m)\u001b[0m\u001b[0;34m\u001b[0m\u001b[0;34m\u001b[0m\u001b[0m\n\u001b[0m",
      "\u001b[0;31mTypeError\u001b[0m: 'bytes' object cannot be interpreted as an integer"
     ]
    }
   ],
   "source": [
    "bytearray.fromhex(hex('a'.encode('ascii')[0])"
   ]
  },
  {
   "cell_type": "code",
   "execution_count": 385,
   "id": "b2517b73",
   "metadata": {},
   "outputs": [
    {
     "data": {
      "text/plain": [
       "'0x30'"
      ]
     },
     "execution_count": 385,
     "metadata": {},
     "output_type": "execute_result"
    }
   ],
   "source": [
    "hex('0'.encode('ascii')[0])#turn a char into hex"
   ]
  },
  {
   "cell_type": "code",
   "execution_count": 384,
   "id": "d29c7e8b",
   "metadata": {},
   "outputs": [
    {
     "data": {
      "text/plain": [
       "'a'"
      ]
     },
     "execution_count": 384,
     "metadata": {},
     "output_type": "execute_result"
    }
   ],
   "source": [
    "bytearray.fromhex(hex('a'.encode('ascii')[0])[2::]).decode()"
   ]
  },
  {
   "cell_type": "code",
   "execution_count": 388,
   "id": "ad8bf8c8",
   "metadata": {},
   "outputs": [
    {
     "data": {
      "text/plain": [
       "'0a'"
      ]
     },
     "execution_count": 388,
     "metadata": {},
     "output_type": "execute_result"
    }
   ],
   "source": [
    "bytearray.fromhex('61').decode()"
   ]
  },
  {
   "cell_type": "code",
   "execution_count": 374,
   "id": "c8423f7c",
   "metadata": {},
   "outputs": [
    {
     "data": {
      "text/plain": [
       "170"
      ]
     },
     "execution_count": 374,
     "metadata": {},
     "output_type": "execute_result"
    }
   ],
   "source": [
    "an_integer"
   ]
  },
  {
   "cell_type": "code",
   "execution_count": 394,
   "id": "9dc445b4",
   "metadata": {},
   "outputs": [
    {
     "data": {
      "text/plain": [
       "['03',\n",
       " '06',\n",
       " '03',\n",
       " '03',\n",
       " '03',\n",
       " '03',\n",
       " '03',\n",
       " '03',\n",
       " '03',\n",
       " '03',\n",
       " '03',\n",
       " '03',\n",
       " '03',\n",
       " '06',\n",
       " '03',\n",
       " '03',\n",
       " '03',\n",
       " '03',\n",
       " '03',\n",
       " '06',\n",
       " '03',\n",
       " '06',\n",
       " '03',\n",
       " '06',\n",
       " '03',\n",
       " '03',\n",
       " '03',\n",
       " '03',\n",
       " '03',\n",
       " '03',\n",
       " '03',\n",
       " '03',\n",
       " '03',\n",
       " '06',\n",
       " '03',\n",
       " '03',\n",
       " '03',\n",
       " '03',\n",
       " '03',\n",
       " '03',\n",
       " '03',\n",
       " '03',\n",
       " '03',\n",
       " '03',\n",
       " '03',\n",
       " '06',\n",
       " '03',\n",
       " '03',\n",
       " '03',\n",
       " '06',\n",
       " '03',\n",
       " '03',\n",
       " '03',\n",
       " '03',\n",
       " '03',\n",
       " '06',\n",
       " '03',\n",
       " '03',\n",
       " '03',\n",
       " '06',\n",
       " '03',\n",
       " '03',\n",
       " '03',\n",
       " '06',\n",
       " '03',\n",
       " '03',\n",
       " '03',\n",
       " '03']"
      ]
     },
     "execution_count": 394,
     "metadata": {},
     "output_type": "execute_result"
    }
   ],
   "source": [
    "[hex(char.encode('ascii')[0])[::2] for char in  hexencodedstring] #all chars in the hex in hex"
   ]
  },
  {
   "cell_type": "code",
   "execution_count": 404,
   "id": "1ba752ca",
   "metadata": {},
   "outputs": [
    {
     "data": {
      "text/plain": [
       "['001',\n",
       " '010',\n",
       " '001',\n",
       " '001',\n",
       " '001',\n",
       " '001',\n",
       " '001',\n",
       " '001',\n",
       " '001',\n",
       " '001',\n",
       " '001',\n",
       " '001',\n",
       " '001',\n",
       " '010',\n",
       " '001',\n",
       " '001',\n",
       " '001',\n",
       " '001',\n",
       " '001',\n",
       " '010',\n",
       " '001',\n",
       " '010',\n",
       " '001',\n",
       " '010',\n",
       " '001',\n",
       " '001',\n",
       " '001',\n",
       " '001',\n",
       " '001',\n",
       " '001',\n",
       " '001',\n",
       " '001',\n",
       " '001',\n",
       " '010',\n",
       " '001',\n",
       " '001',\n",
       " '001',\n",
       " '001',\n",
       " '001',\n",
       " '001',\n",
       " '001',\n",
       " '001',\n",
       " '001',\n",
       " '001',\n",
       " '001',\n",
       " '010',\n",
       " '001',\n",
       " '001',\n",
       " '001',\n",
       " '010',\n",
       " '001',\n",
       " '001',\n",
       " '001',\n",
       " '001',\n",
       " '001',\n",
       " '010',\n",
       " '001',\n",
       " '001',\n",
       " '001',\n",
       " '010',\n",
       " '001',\n",
       " '001',\n",
       " '001',\n",
       " '010',\n",
       " '001',\n",
       " '001',\n",
       " '001',\n",
       " '001']"
      ]
     },
     "execution_count": 404,
     "metadata": {},
     "output_type": "execute_result"
    }
   ],
   "source": [
    "[bin(bytes.fromhex(hex(char.encode('ascii')[0])[::2])[0])[::2].zfill(3) for char in  hexencodedstring] \n",
    "#binary of  every single char in the hex"
   ]
  },
  {
   "cell_type": "code",
   "execution_count": null,
   "id": "68476a23",
   "metadata": {},
   "outputs": [],
   "source": []
  }
 ],
 "metadata": {
  "kernelspec": {
   "display_name": "Python 3",
   "language": "python",
   "name": "python3"
  },
  "language_info": {
   "codemirror_mode": {
    "name": "ipython",
    "version": 3
   },
   "file_extension": ".py",
   "mimetype": "text/x-python",
   "name": "python",
   "nbconvert_exporter": "python",
   "pygments_lexer": "ipython3",
   "version": "3.8.8"
  }
 },
 "nbformat": 4,
 "nbformat_minor": 5
}
