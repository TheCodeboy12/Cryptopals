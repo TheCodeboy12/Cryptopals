{
 "cells": [
  {
   "cell_type": "code",
   "execution_count": 1,
   "id": "e3513ddf",
   "metadata": {},
   "outputs": [
    {
     "name": "stdout",
     "output_type": "stream",
     "text": [
      "37\n"
     ]
    }
   ],
   "source": []
  },
  {
   "cell_type": "code",
   "execution_count": 2,
   "id": "c0307604",
   "metadata": {},
   "outputs": [
    {
     "data": {
      "text/plain": [
       "b'\\x1dB\\x1fM\\x0b\\x0f\\x02\\x1fO\\x13N<\\x1aie\\x1fI\\x1c\\x0eN\\x13\\x01\\x0b\\x07N\\x1b\\x01\\x16E6\\x00\\x1e\\x01Id T\\x1d\\x1dC3SNeR'"
      ]
     },
     "execution_count": 2,
     "metadata": {},
     "output_type": "execute_result"
    }
   ],
   "source": []
  },
  {
   "cell_type": "code",
   "execution_count": 34,
   "id": "eb35d500",
   "metadata": {},
   "outputs": [],
   "source": []
  },
  {
   "cell_type": "code",
   "execution_count": 35,
   "id": "ca3bf272",
   "metadata": {},
   "outputs": [
    {
     "data": {
      "text/plain": [
       "5.0"
      ]
     },
     "execution_count": 35,
     "metadata": {},
     "output_type": "execute_result"
    }
   ],
   "source": []
  },
  {
   "cell_type": "code",
   "execution_count": 13,
   "id": "4b790357",
   "metadata": {},
   "outputs": [
    {
     "name": "stdout",
     "output_type": "stream",
     "text": [
      "[b'\\x1dB', b'\\x1fM', b'\\x0b\\x0f', b'\\x02\\x1f', b'O\\x13', b'N<', b'\\x1ai', b'e\\x1f', b'I\\x1c', b'\\x0eN', b'\\x13\\x01', b'\\x0b\\x07', b'N\\x1b', b'\\x01\\x16', b'E6', b'\\x00\\x1e', b'\\x01I', b'd ', b'T\\x1d', b'\\x1dC', b'3S', b'Ne', b'R']\n",
      "[b'\\x1dB\\x1f', b'M\\x0b\\x0f', b'\\x02\\x1fO', b'\\x13N<', b'\\x1aie', b'\\x1fI\\x1c', b'\\x0eN\\x13', b'\\x01\\x0b\\x07', b'N\\x1b\\x01', b'\\x16E6', b'\\x00\\x1e\\x01', b'Id ', b'T\\x1d\\x1d', b'C3S', b'NeR']\n",
      "[b'\\x1dB\\x1fM', b'\\x0b\\x0f\\x02\\x1f', b'O\\x13N<', b'\\x1aie\\x1f', b'I\\x1c\\x0eN', b'\\x13\\x01\\x0b\\x07', b'N\\x1b\\x01\\x16', b'E6\\x00\\x1e', b'\\x01Id ', b'T\\x1d\\x1dC', b'3SNe', b'R']\n",
      "[b'\\x1dB\\x1fM\\x0b', b'\\x0f\\x02\\x1fO\\x13', b'N<\\x1aie', b'\\x1fI\\x1c\\x0eN', b'\\x13\\x01\\x0b\\x07N', b'\\x1b\\x01\\x16E6', b'\\x00\\x1e\\x01Id', b' T\\x1d\\x1dC', b'3SNeR']\n",
      "[b'\\x1dB\\x1fM\\x0b\\x0f', b'\\x02\\x1fO\\x13N<', b'\\x1aie\\x1fI\\x1c', b'\\x0eN\\x13\\x01\\x0b\\x07', b'N\\x1b\\x01\\x16E6', b'\\x00\\x1e\\x01Id ', b'T\\x1d\\x1dC3S', b'NeR']\n",
      "[b'\\x1dB\\x1fM\\x0b\\x0f\\x02', b'\\x1fO\\x13N<\\x1ai', b'e\\x1fI\\x1c\\x0eN\\x13', b'\\x01\\x0b\\x07N\\x1b\\x01\\x16', b'E6\\x00\\x1e\\x01Id', b' T\\x1d\\x1dC3S', b'NeR']\n",
      "[b'\\x1dB\\x1fM\\x0b\\x0f\\x02\\x1f', b'O\\x13N<\\x1aie\\x1f', b'I\\x1c\\x0eN\\x13\\x01\\x0b\\x07', b'N\\x1b\\x01\\x16E6\\x00\\x1e', b'\\x01Id T\\x1d\\x1dC', b'3SNeR']\n",
      "[b'\\x1dB\\x1fM\\x0b\\x0f\\x02\\x1fO', b'\\x13N<\\x1aie\\x1fI\\x1c', b'\\x0eN\\x13\\x01\\x0b\\x07N\\x1b\\x01', b'\\x16E6\\x00\\x1e\\x01Id ', b'T\\x1d\\x1dC3SNeR']\n",
      "[b'\\x1dB\\x1fM\\x0b\\x0f\\x02\\x1fO\\x13', b'N<\\x1aie\\x1fI\\x1c\\x0eN', b'\\x13\\x01\\x0b\\x07N\\x1b\\x01\\x16E6', b'\\x00\\x1e\\x01Id T\\x1d\\x1dC', b'3SNeR']\n",
      "[b'\\x1dB\\x1fM\\x0b\\x0f\\x02\\x1fO\\x13N', b'<\\x1aie\\x1fI\\x1c\\x0eN\\x13\\x01', b'\\x0b\\x07N\\x1b\\x01\\x16E6\\x00\\x1e\\x01', b'Id T\\x1d\\x1dC3SNe', b'R']\n",
      "[b'\\x1dB\\x1fM\\x0b\\x0f\\x02\\x1fO\\x13N<', b'\\x1aie\\x1fI\\x1c\\x0eN\\x13\\x01\\x0b\\x07', b'N\\x1b\\x01\\x16E6\\x00\\x1e\\x01Id ', b'T\\x1d\\x1dC3SNeR']\n",
      "[b'\\x1dB\\x1fM\\x0b\\x0f\\x02\\x1fO\\x13N<\\x1a', b'ie\\x1fI\\x1c\\x0eN\\x13\\x01\\x0b\\x07N\\x1b', b'\\x01\\x16E6\\x00\\x1e\\x01Id T\\x1d\\x1d', b'C3SNeR']\n",
      "[b'\\x1dB\\x1fM\\x0b\\x0f\\x02\\x1fO\\x13N<\\x1ai', b'e\\x1fI\\x1c\\x0eN\\x13\\x01\\x0b\\x07N\\x1b\\x01\\x16', b'E6\\x00\\x1e\\x01Id T\\x1d\\x1dC3S', b'NeR']\n",
      "[b'\\x1dB\\x1fM\\x0b\\x0f\\x02\\x1fO\\x13N<\\x1aie', b'\\x1fI\\x1c\\x0eN\\x13\\x01\\x0b\\x07N\\x1b\\x01\\x16E6', b'\\x00\\x1e\\x01Id T\\x1d\\x1dC3SNeR']\n",
      "[b'\\x1dB\\x1fM\\x0b\\x0f\\x02\\x1fO\\x13N<\\x1aie\\x1f', b'I\\x1c\\x0eN\\x13\\x01\\x0b\\x07N\\x1b\\x01\\x16E6\\x00\\x1e', b'\\x01Id T\\x1d\\x1dC3SNeR']\n",
      "[b'\\x1dB\\x1fM\\x0b\\x0f\\x02\\x1fO\\x13N<\\x1aie\\x1fI', b'\\x1c\\x0eN\\x13\\x01\\x0b\\x07N\\x1b\\x01\\x16E6\\x00\\x1e\\x01I', b'd T\\x1d\\x1dC3SNeR']\n",
      "[b'\\x1dB\\x1fM\\x0b\\x0f\\x02\\x1fO\\x13N<\\x1aie\\x1fI\\x1c', b'\\x0eN\\x13\\x01\\x0b\\x07N\\x1b\\x01\\x16E6\\x00\\x1e\\x01Id ', b'T\\x1d\\x1dC3SNeR']\n",
      "[b'\\x1dB\\x1fM\\x0b\\x0f\\x02\\x1fO\\x13N<\\x1aie\\x1fI\\x1c\\x0e', b'N\\x13\\x01\\x0b\\x07N\\x1b\\x01\\x16E6\\x00\\x1e\\x01Id T\\x1d', b'\\x1dC3SNeR']\n",
      "[b'\\x1dB\\x1fM\\x0b\\x0f\\x02\\x1fO\\x13N<\\x1aie\\x1fI\\x1c\\x0eN', b'\\x13\\x01\\x0b\\x07N\\x1b\\x01\\x16E6\\x00\\x1e\\x01Id T\\x1d\\x1dC', b'3SNeR']\n",
      "[b'\\x1dB\\x1fM\\x0b\\x0f\\x02\\x1fO\\x13N<\\x1aie\\x1fI\\x1c\\x0eN\\x13', b'\\x01\\x0b\\x07N\\x1b\\x01\\x16E6\\x00\\x1e\\x01Id T\\x1d\\x1dC3S', b'NeR']\n",
      "[b'\\x1dB\\x1fM\\x0b\\x0f\\x02\\x1fO\\x13N<\\x1aie\\x1fI\\x1c\\x0eN\\x13\\x01', b'\\x0b\\x07N\\x1b\\x01\\x16E6\\x00\\x1e\\x01Id T\\x1d\\x1dC3SNe', b'R']\n",
      "[b'\\x1dB\\x1fM\\x0b\\x0f\\x02\\x1fO\\x13N<\\x1aie\\x1fI\\x1c\\x0eN\\x13\\x01\\x0b', b'\\x07N\\x1b\\x01\\x16E6\\x00\\x1e\\x01Id T\\x1d\\x1dC3SNeR']\n",
      "[b'\\x1dB\\x1fM\\x0b\\x0f\\x02\\x1fO\\x13N<\\x1aie\\x1fI\\x1c\\x0eN\\x13\\x01\\x0b\\x07', b'N\\x1b\\x01\\x16E6\\x00\\x1e\\x01Id T\\x1d\\x1dC3SNeR']\n",
      "[b'\\x1dB\\x1fM\\x0b\\x0f\\x02\\x1fO\\x13N<\\x1aie\\x1fI\\x1c\\x0eN\\x13\\x01\\x0b\\x07N', b'\\x1b\\x01\\x16E6\\x00\\x1e\\x01Id T\\x1d\\x1dC3SNeR']\n",
      "[b'\\x1dB\\x1fM\\x0b\\x0f\\x02\\x1fO\\x13N<\\x1aie\\x1fI\\x1c\\x0eN\\x13\\x01\\x0b\\x07N\\x1b', b'\\x01\\x16E6\\x00\\x1e\\x01Id T\\x1d\\x1dC3SNeR']\n",
      "[b'\\x1dB\\x1fM\\x0b\\x0f\\x02\\x1fO\\x13N<\\x1aie\\x1fI\\x1c\\x0eN\\x13\\x01\\x0b\\x07N\\x1b\\x01', b'\\x16E6\\x00\\x1e\\x01Id T\\x1d\\x1dC3SNeR']\n",
      "[b'\\x1dB\\x1fM\\x0b\\x0f\\x02\\x1fO\\x13N<\\x1aie\\x1fI\\x1c\\x0eN\\x13\\x01\\x0b\\x07N\\x1b\\x01\\x16', b'E6\\x00\\x1e\\x01Id T\\x1d\\x1dC3SNeR']\n",
      "[b'\\x1dB\\x1fM\\x0b\\x0f\\x02\\x1fO\\x13N<\\x1aie\\x1fI\\x1c\\x0eN\\x13\\x01\\x0b\\x07N\\x1b\\x01\\x16E', b'6\\x00\\x1e\\x01Id T\\x1d\\x1dC3SNeR']\n",
      "[b'\\x1dB\\x1fM\\x0b\\x0f\\x02\\x1fO\\x13N<\\x1aie\\x1fI\\x1c\\x0eN\\x13\\x01\\x0b\\x07N\\x1b\\x01\\x16E6', b'\\x00\\x1e\\x01Id T\\x1d\\x1dC3SNeR']\n",
      "[b'\\x1dB\\x1fM\\x0b\\x0f\\x02\\x1fO\\x13N<\\x1aie\\x1fI\\x1c\\x0eN\\x13\\x01\\x0b\\x07N\\x1b\\x01\\x16E6\\x00', b'\\x1e\\x01Id T\\x1d\\x1dC3SNeR']\n",
      "[b'\\x1dB\\x1fM\\x0b\\x0f\\x02\\x1fO\\x13N<\\x1aie\\x1fI\\x1c\\x0eN\\x13\\x01\\x0b\\x07N\\x1b\\x01\\x16E6\\x00\\x1e', b'\\x01Id T\\x1d\\x1dC3SNeR']\n",
      "[b'\\x1dB\\x1fM\\x0b\\x0f\\x02\\x1fO\\x13N<\\x1aie\\x1fI\\x1c\\x0eN\\x13\\x01\\x0b\\x07N\\x1b\\x01\\x16E6\\x00\\x1e\\x01', b'Id T\\x1d\\x1dC3SNeR']\n",
      "[b'\\x1dB\\x1fM\\x0b\\x0f\\x02\\x1fO\\x13N<\\x1aie\\x1fI\\x1c\\x0eN\\x13\\x01\\x0b\\x07N\\x1b\\x01\\x16E6\\x00\\x1e\\x01I', b'd T\\x1d\\x1dC3SNeR']\n",
      "[b'\\x1dB\\x1fM\\x0b\\x0f\\x02\\x1fO\\x13N<\\x1aie\\x1fI\\x1c\\x0eN\\x13\\x01\\x0b\\x07N\\x1b\\x01\\x16E6\\x00\\x1e\\x01Id', b' T\\x1d\\x1dC3SNeR']\n",
      "[b'\\x1dB\\x1fM\\x0b\\x0f\\x02\\x1fO\\x13N<\\x1aie\\x1fI\\x1c\\x0eN\\x13\\x01\\x0b\\x07N\\x1b\\x01\\x16E6\\x00\\x1e\\x01Id ', b'T\\x1d\\x1dC3SNeR']\n",
      "[b'\\x1dB\\x1fM\\x0b\\x0f\\x02\\x1fO\\x13N<\\x1aie\\x1fI\\x1c\\x0eN\\x13\\x01\\x0b\\x07N\\x1b\\x01\\x16E6\\x00\\x1e\\x01Id T', b'\\x1d\\x1dC3SNeR']\n",
      "[b'\\x1dB\\x1fM\\x0b\\x0f\\x02\\x1fO\\x13N<\\x1aie\\x1fI\\x1c\\x0eN\\x13\\x01\\x0b\\x07N\\x1b\\x01\\x16E6\\x00\\x1e\\x01Id T\\x1d', b'\\x1dC3SNeR']\n",
      "[b'\\x1dB\\x1fM\\x0b\\x0f\\x02\\x1fO\\x13N<\\x1aie\\x1fI\\x1c\\x0eN\\x13\\x01\\x0b\\x07N\\x1b\\x01\\x16E6\\x00\\x1e\\x01Id T\\x1d\\x1d', b'C3SNeR']\n",
      "[b'\\x1dB\\x1fM\\x0b\\x0f\\x02\\x1fO\\x13N<\\x1aie\\x1fI\\x1c\\x0eN\\x13\\x01\\x0b\\x07N\\x1b\\x01\\x16E6\\x00\\x1e\\x01Id T\\x1d\\x1dC', b'3SNeR']\n",
      "[b'\\x1dB\\x1fM\\x0b\\x0f\\x02\\x1fO\\x13N<\\x1aie\\x1fI\\x1c\\x0eN\\x13\\x01\\x0b\\x07N\\x1b\\x01\\x16E6\\x00\\x1e\\x01Id T\\x1d\\x1dC3', b'SNeR']\n"
     ]
    }
   ],
   "source": []
  },
  {
   "cell_type": "code",
   "execution_count": 14,
   "id": "610b9dd7",
   "metadata": {},
   "outputs": [
    {
     "ename": "SyntaxError",
     "evalue": "invalid syntax (Temp/ipykernel_4044/3662358255.py, line 1)",
     "output_type": "error",
     "traceback": [
      "\u001b[1;36m  File \u001b[1;32m\"C:\\Users\\gabix\\AppData\\Local\\Temp/ipykernel_4044/3662358255.py\"\u001b[1;36m, line \u001b[1;32m1\u001b[0m\n\u001b[1;33m    b64texts=[base64.b64decode x open()\u001b[0m\n\u001b[1;37m                               ^\u001b[0m\n\u001b[1;31mSyntaxError\u001b[0m\u001b[1;31m:\u001b[0m invalid syntax\n"
     ]
    }
   ],
   "source": []
  },
  {
   "cell_type": "code",
   "execution_count": 15,
   "id": "e96c87d7",
   "metadata": {},
   "outputs": [],
   "source": []
  },
  {
   "cell_type": "code",
   "execution_count": 17,
   "id": "d6e0a90c",
   "metadata": {},
   "outputs": [
    {
     "ename": "NameError",
     "evalue": "name 'b64' is not defined",
     "output_type": "error",
     "traceback": [
      "\u001b[1;31m---------------------------------------------------------------------------\u001b[0m",
      "\u001b[1;31mNameError\u001b[0m                                 Traceback (most recent call last)",
      "\u001b[1;32m~\\AppData\\Local\\Temp/ipykernel_4044/3919622670.py\u001b[0m in \u001b[0;36m<module>\u001b[1;34m\u001b[0m\n\u001b[1;32m----> 1\u001b[1;33m \u001b[0mb64\u001b[0m\u001b[1;33m\u001b[0m\u001b[1;33m\u001b[0m\u001b[0m\n\u001b[0m",
      "\u001b[1;31mNameError\u001b[0m: name 'b64' is not defined"
     ]
    }
   ],
   "source": []
  },
  {
   "cell_type": "code",
   "execution_count": 1,
   "id": "f24f879a",
   "metadata": {},
   "outputs": [],
   "source": []
  },
  {
   "cell_type": "code",
   "execution_count": 3,
   "id": "53c7708a",
   "metadata": {},
   "outputs": [
    {
     "data": {
      "text/plain": [
       "[5.0,\n",
       " 6.0,\n",
       " 14.0,\n",
       " 6.0,\n",
       " 24.0,\n",
       " 21.0,\n",
       " 24.0,\n",
       " 32.0,\n",
       " 33.0,\n",
       " 29.0,\n",
       " 39.0,\n",
       " 33.0,\n",
       " 45.0,\n",
       " 44.0,\n",
       " 48.0,\n",
       " 50.0,\n",
       " 50.0,\n",
       " 63.0,\n",
       " 54.0,\n",
       " 64.0,\n",
       " 82.0,\n",
       " 70.0,\n",
       " 74.0,\n",
       " 67.0,\n",
       " 65.0,\n",
       " 67.0,\n",
       " 69.0,\n",
       " 47.0,\n",
       " 56.0,\n",
       " 50.0,\n",
       " 46.0,\n",
       " 42.0,\n",
       " 35.0,\n",
       " 28.0,\n",
       " 32.0,\n",
       " 30.0,\n",
       " 17.0,\n",
       " 24.0,\n",
       " 15.0,\n",
       " 16.0]"
      ]
     },
     "execution_count": 3,
     "metadata": {},
     "output_type": "execute_result"
    }
   ],
   "source": []
  },
  {
   "cell_type": "code",
   "execution_count": 4,
   "id": "af8e6e23",
   "metadata": {},
   "outputs": [
    {
     "data": {
      "text/plain": [
       "[29,\n",
       " 6,\n",
       " 12,\n",
       " 65,\n",
       " 65,\n",
       " 8,\n",
       " 27,\n",
       " 79,\n",
       " 78,\n",
       " 66,\n",
       " 29,\n",
       " 82,\n",
       " 2,\n",
       " 58,\n",
       " 98,\n",
       " 101,\n",
       " 100,\n",
       " 48,\n",
       " 83,\n",
       " 33,\n",
       " 12,\n",
       " 78,\n",
       " 1,\n",
       " 21,\n",
       " 54,\n",
       " 65,\n",
       " 89,\n",
       " 10,\n",
       " 69,\n",
       " 59,\n",
       " 25,\n",
       " 12,\n",
       " 79,\n",
       " 18,\n",
       " 13,\n",
       " 4,\n",
       " 7,\n",
       " 77,\n",
       " 22,\n",
       " 19,\n",
       " 27,\n",
       " 15,\n",
       " 1,\n",
       " 7,\n",
       " 6,\n",
       " 8,\n",
       " 49,\n",
       " 18,\n",
       " 98,\n",
       " 69,\n",
       " 6,\n",
       " 28,\n",
       " 17,\n",
       " 61,\n",
       " 78,\n",
       " 0,\n",
       " 73,\n",
       " 71,\n",
       " 45,\n",
       " 15,\n",
       " 12,\n",
       " 0,\n",
       " 22,\n",
       " 38]"
      ]
     },
     "execution_count": 4,
     "metadata": {},
     "output_type": "execute_result"
    }
   ],
   "source": []
  },
  {
   "cell_type": "code",
   "execution_count": 5,
   "id": "968d3050",
   "metadata": {},
   "outputs": [],
   "source": []
  },
  {
   "cell_type": "code",
   "execution_count": 6,
   "id": "f2e53d1f",
   "metadata": {},
   "outputs": [
    {
     "ename": "SyntaxError",
     "evalue": "invalid syntax (<ipython-input-6-5ba429494439>, line 1)",
     "output_type": "error",
     "traceback": [
      "\u001b[0;36m  File \u001b[0;32m\"<ipython-input-6-5ba429494439>\"\u001b[0;36m, line \u001b[0;32m1\u001b[0m\n\u001b[0;31m    29.hex()\u001b[0m\n\u001b[0m       ^\u001b[0m\n\u001b[0;31mSyntaxError\u001b[0m\u001b[0;31m:\u001b[0m invalid syntax\n"
     ]
    }
   ],
   "source": []
  },
  {
   "cell_type": "code",
   "execution_count": 12,
   "id": "6813ae89",
   "metadata": {},
   "outputs": [
    {
     "data": {
      "text/plain": [
       "'0x1d'"
      ]
     },
     "execution_count": 12,
     "metadata": {},
     "output_type": "execute_result"
    }
   ],
   "source": []
  },
  {
   "cell_type": "code",
   "execution_count": 20,
   "id": "bdecfa1a",
   "metadata": {},
   "outputs": [
    {
     "data": {
      "text/plain": [
       "b'\\x1d'"
      ]
     },
     "execution_count": 20,
     "metadata": {},
     "output_type": "execute_result"
    }
   ],
   "source": [
    "bytes([29])"
   ]
  },
  {
   "cell_type": "code",
   "execution_count": 24,
   "id": "08b92318",
   "metadata": {},
   "outputs": [
    {
     "data": {
      "text/plain": [
       "29"
      ]
     },
     "execution_count": 24,
     "metadata": {},
     "output_type": "execute_result"
    }
   ],
   "source": [
    "b'\\x1d'[0]"
   ]
  },
  {
   "cell_type": "code",
   "execution_count": 27,
   "id": "c8505c98",
   "metadata": {},
   "outputs": [
    {
     "data": {
      "text/plain": [
       "b'\\x1d\\x06\\x0cAA\\x08\\x1bONB\\x1dR\\x02:bed0S!\\x0cN\\x01\\x156AY\\nE;\\x19\\x0cO\\x12\\r\\x04\\x07M\\x16\\x13\\x1b\\x0f\\x01\\x07\\x06\\x081\\x12bE\\x06\\x1c\\x11=N\\x00IG-\\x0f\\x0c\\x00\\x16&'"
      ]
     },
     "execution_count": 27,
     "metadata": {},
     "output_type": "execute_result"
    }
   ],
   "source": [
    "b''.join([b'\\x1d', b'\\x06', b'\\x0c', b'A', b'A', b'\\x08', b'\\x1b', b'O', b'N', b'B', b'\\x1d', b'R', b'\\x02', b':', b'b', b'e', b'd', b'0', b'S', b'!', b'\\x0c', b'N', b'\\x01', b'\\x15', b'6', b'A', b'Y', b'\\n', b'E', b';', b'\\x19', b'\\x0c', b'O', b'\\x12', b'\\r', b'\\x04', b'\\x07', b'M', b'\\x16', b'\\x13', b'\\x1b', b'\\x0f', b'\\x01', b'\\x07', b'\\x06', b'\\x08', b'1', b'\\x12', b'b', b'E', b'\\x06', b'\\x1c', b'\\x11', b'=', b'N', b'\\x00', b'I', b'G', b'-', b'\\x0f', b'\\x0c', b'\\x00', b'\\x16', b'&'])"
   ]
  },
  {
   "cell_type": "code",
   "execution_count": 30,
   "id": "c9791298",
   "metadata": {},
   "outputs": [
    {
     "data": {
      "text/plain": [
       "29"
      ]
     },
     "execution_count": 30,
     "metadata": {},
     "output_type": "execute_result"
    }
   ],
   "source": []
  },
  {
   "cell_type": "code",
   "execution_count": 31,
   "id": "42a0d74d",
   "metadata": {},
   "outputs": [
    {
     "data": {
      "text/plain": [
       "64"
      ]
     },
     "execution_count": 31,
     "metadata": {},
     "output_type": "execute_result"
    }
   ],
   "source": [
    "len([b'\\x1d', b'\\x06', b'\\x0c', b'A', b'A', b'\\x08', b'\\x1b', b'O', b'N', b'B', b'\\x1d', b'R', b'\\x02', b':', b'b', b'e', b'd', b'0', b'S', b'!', b'\\x0c', b'N', b'\\x01', b'\\x15', b'6', b'A', b'Y', b'\\n', b'E', b';', b'\\x19', b'\\x0c', b'O', b'\\x12', b'\\r', b'\\x04', b'\\x07', b'M', b'\\x16', b'\\x13', b'\\x1b', b'\\x0f', b'\\x01', b'\\x07', b'\\x06', b'\\x08', b'1', b'\\x12', b'b', b'E', b'\\x06', b'\\x1c', b'\\x11', b'=', b'N', b'\\x00', b'I', b'G', b'-', b'\\x0f', b'\\x0c', b'\\x00', b'\\x16', b'&'])"
   ]
  },
  {
   "cell_type": "code",
   "execution_count": 32,
   "id": "f8dcab0b",
   "metadata": {},
   "outputs": [
    {
     "data": {
      "text/plain": [
       "64"
      ]
     },
     "execution_count": 32,
     "metadata": {},
     "output_type": "execute_result"
    }
   ],
   "source": [
    "len(b'\\x1d\\x06\\x0cAA\\x08\\x1bONB\\x1dR\\x02:bed0S!\\x0cN\\x01\\x156AY\\nE;\\x19\\x0cO\\x12\\r\\x04\\x07M\\x16\\x13\\x1b\\x0f\\x01\\x07\\x06\\x081\\x12bE\\x06\\x1c\\x11=N\\x00IG-\\x0f\\x0c\\x00\\x16&')"
   ]
  },
  {
   "cell_type": "code",
   "execution_count": 18,
   "id": "e0630238",
   "metadata": {},
   "outputs": [],
   "source": [
    "b64texts=[''.join(x.splitlines()) for x in open('6.txt').readlines()]"
   ]
  },
  {
   "cell_type": "code",
   "execution_count": 48,
   "id": "9ae26b47",
   "metadata": {},
   "outputs": [],
   "source": [
    "b64texts=open('6.txt').read()"
   ]
  },
  {
   "cell_type": "code",
   "execution_count": 40,
   "id": "5aad8cec",
   "metadata": {},
   "outputs": [
    {
     "data": {
      "text/plain": [
       "b'\\x1dB\\x1fM\\x0b\\x0f\\x02\\x1fO\\x13N<\\x1aie\\x1fI\\x1c\\x0eN\\x13\\x01\\x0b\\x07N\\x1b\\x01\\x16E6\\x00\\x1e\\x01Id T\\x1d\\x1dC3SNeR\\x06\\x00GT\\x1c\\rEM\\x07\\x04\\x0cS\\x12<\\x0c\\x1e\\x08I\\x1a\\t\\x11O\\x14L!\\x1aG+\\x00\\x05\\x1dGY\\x11\\x04\\t\\x00d&\\x07S\\x007\\x16\\x06\\x0c\\x1a\\x17A\\x1d\\x01RT0_\\x00 \\x13\\n\\x05GO\\x12H\\x08ENe>\\x16\\t8E\\x06\\x05\\x08\\x1aF\\x07O\\x1fYx~jb6\\x0c\\x1d\\x0fA\\rH\\x06U\\x1a\\x1b\\x00\\x1dBt\\x04\\x1e\\x01I\\x1a\\t\\x11\\x02Rz\\x7fI\\x00H:\\x00\\x1a\\x13I\\x1aOEH\\x0f\\x1d\\rS\\x04:\\x01R\\x19\\x01\\x0bA\\x13\\x06\\x00L1_Sb\\x15\\x06\\x07\\t\\x07T\\x0b\\x17A\\x14\\x16Iy35\\x0b\\x1b\\x01\\x05\\x0fF\\x07O\\x1dNxNH\\'R\\x04\\x07\\x0cEXH\\x08A\\x00O T\\x08t\\x0b\\x1d\\x19I\\x02\\x00\\x0e\\x16\\\\\\x00R0ie\\x1fI\\x02\\x02T\\x00\\x01\\x0b\\x07N\\x02\\x10S\\x01&\\x10\\x15M\\x02\\x07\\x02\\x1fO\\x1bNx0i6R\\n\\x01\\tT\\x06\\x07\\tSN\\x02\\x10S\\x08;\\x10\\x06\\x05I\\x0f\\x0f\\x10O;\\x00:_G+\\x1cId3OT\\x02\\x10S\\x1aO\\x05\\x16\\x11t\\x0c\\x06M\\x0f\\x02\\x0e\\x03CRL=N\\x00/\\x0bI\\r\\x08N\\x17\\r\\x15T\\x1dO\\x0e\\x1cE^(\\x0bM\\x19\\x01\\x12\\x07\\nUSxNOb\\x06\\x01\\x0bGS\\x1d\\x0c\\x00\\x00\\x17\\n\\x05\\x1f\\x0c:B^M.\\x01A\"\\x0e\\x1cI4VAb5\\x06OG*~;\\x08O\\x01\\x1b\\x01SB7\\x04\\x07\\x1e\\x0cN\\x15\\x1c\\x0e\\x06\\x07+\\x1aT*\\x17I\\x19\\x06YT!EW\\x07\\x03\\x05S\\x071Ex,\\x07\\nA\\x1d\\tRY7O\\x00&\\x1d\\x07I\\x13\\x00\\x13\\x01\\x13EN\\x0eI\\x17\\x049\\x0b^M\\x1d\\x06\\x04\\x1aOxw0C\\x00;\\x1d\\x1cN\\x14T\\x15\\x1a\\x0cNIO\\x08\\x07E9\\x00Rg:\\x01A\\x13\\n\\x06\\x007\\\\FbU\\n\\x0f\\x12S\\x11H,\\x00\\r\\x00\\x07\\x07\\x17;\\tR\\x19\\x01\\x0bA\\x07\\x1b\\x13G=\\x1a*\\x16\\x1a\\x0c\\x1c\\x02\\x07\\x07H\\x0bON\\x0b\\x00\\x00\\x16=\\x0bUM\\x08\\x02\\r\\x1b\\x18\\x17Dx0ie\\x1fI\\x07\\t\\x00\\x19\\x11EO\\x19\\x01I\\x03\\r5\\x16\\x17Mc:\\t\\x11O\\x15I*VI\\'\\x01I\\x1d\\x06\\x00\\rH\\x11H\\x0b\\x16I\\x1f\\n\"\\x00R\\x00\\x0cN\\x00\\x1a\\x0bRT0[Tb\\x1b\\x1aN\\x08KTb$N\\nO S\\x065\\x0bR\\t\\x08\\x00\\x02\\x11O\\x10E,NE0R\\x1d\\x06\\x06NT\\t\\x0bYN\\x04\\x00\\x17E:BR\\x1d\\x05\\x0f\\x18Texs,[G\\'R[NJ\\rT1\\x00AN\\x1b\\x01\\x16E;\\x0b\\x17M\\x10\\x0fFT\\x18\\x13N6[\\x00.\\x1b\\x1a\\x1a\\x02NT\\x1c\\n\\x00d&\\x1dT\\x16t\\n\\x14\\x0bI\\x03\\x18T\\x07\\x17A<\\x1aS-R\\x05\\x0b\\x13\\x00\\x00\\x00\\x00\\x00\\x0c\\n\\x08\\x07E$\\t\\x13\\x14I\\x1a\\t\\x06\\x00\\x07G0\\x1a*\\x11\\x1dI\\'GC\\x15\\x06EF\\x1b\\x01\\x02S\\x0c E\\x07\\x1dI\\x0f\\x0f\\x10O\\x1fA3_\\x00+\\x06I\\x1d\\x08U\\x1a\\x0cEG\\x01\\x00\\rSoeH@@ZN8\\x1bO_\\rxqN-\\x11\\x02N\\x08NT\\x1b\\nM\\x0bO\\x1e\\x1c\\n0Ex+\\x06\\x1cA\\x13\\x00\\x1dDxVU!\\x19EN.\\x00\\x18\\x01\\x0eEN\\x02\\x10S\\x17<\\x1c\\x1f\\x08\\x1aN\\x00\\x00\\x1d\\x1dC1UU1Rc=\\x12P\\x11\\x1a\\x06A\\x02\\x0e\\x0f\\x01\\x043\\x0c\\x1e\\x04\\x1a\\x1a\\x08\\x17\\n\\nP1[L+\\x16\\x06\\r\\x0eO\\x01\\x1bE*\\'H\\x04S\\x04:E\\x17\\x0b\\x0f\\x0b\\x02\\x00O\\x13N<\\x1aT*\\x13\\x1dN\\x1eO\\x01H\\x06A\\x00O\\x0b\\x16\\x11to;M\\n\\x0f\\x0fT\\x1b\\x13K=\\x1aAb\\x14\\x05\\x17GG\\x1d\\x1a\\t\\x00\\x0f\\x01\\rS\\x085\\x0e\\x17M\\x01\\x0b\\x13T\\x18\\x17Tv\\x1a*H;N\\x03GL\\x1d\\x03\\x00\\x00=\\x0e\\x04\\x00\\n:E_@I=\\x00\\x19\\x1c\\x1dNxNOb6\\x0c\\x02\\x0eL\\x15\\x00E*:\\x07\\x0c\\x01\\x00s\\x16R\\x03\\x06N\\x05\\x11\\x01\\x0bI6\\x1d\\x0cb+\\x06\\x1bGC\\x15\\x06ET\\x1c\\x16I\\x07\\nt\\r\\x13\\x03\\x0eNk6\\x1a\\x06\\x00!UUe\\x1e\\x05N\\x0cE\\x11\\x18ET\\x1c\\x16\\x00\\x1dBt\\x11\\x1dM\\x0e\\x0b\\x15T\\x02\\x0b\\x00+NY.\\x17Id(V\\x11\\x1aEA\\x00\\x0bI\\x1c\\x131\\x17^M\\x19\\x1c\\x00\\x17\\x1b\\x1bC=\\x1aM#\\x19\\x0c\\x1dGP\\x11\\x1a\\x03E\\r\\x1bIy\\'!\\x11R\\x03\\x06\\x1aA\\x1d\\tRY7O\\x070\\x17I\\x0fGL\\x1b\\t\\x03E\\x1cAIyo\\r\\n\\x07J\\x05\\x02A\\x13\\n\\x06\\x006UW*\\x17\\x1b\\x0bK\\x00\\x1a\\x07EP\\x02\\x0e\\n\\x16It\\x0b\\x1dM\\x1d\\x07\\x0c\\x11CRN7\\x1aG+\\x00\\x05\\x1dG*\\'\\x07\\nNNBDS*<E\\x1f\\x14I)\\x0e\\x10CRH7WE \\x1d\\r\\x17K\\x00\\r\\x07\\x10\\x00\\x1e\\x1d\\x06\\x11\\x046\\t\\x0bM\\x0c\\x0f\\x15Te!P9]H\\'\\x06\\x1d\\x07GW\\x1d\\x1c\\r\\x00\\x0fO\\x1a\\x03\\n;\\x0bSM*\\x01\\x0c\\x11O\\x1dNx[N&R\\x1a\\x0f\\x1e\\x00\\x1d\\x1cD\\x00de?:5zE$\\x0c\\x07\\x07\\r\\x18\\x0eRi;_\\x00;\\x17\\x19BGY\\x11\\x18I\\x00\\'H\\x04S\\x06;\\x08\\x1b\\x03NN\\t\\x15\\x1d\\x16\\x004SK\\'R\\x08N\\x15H\\x1d\\x06\\n\\x00d&\\x07\\x07\\n,\\x0c\\x11\\x0c\\x1d\\x07\\x0f\\x13O\\x01OxCO7R\\x1a\\x1a\\x06G\\x13\\r\\x17\\x00\\x02\\x06\\x02\\x16E5E\\x05\\x04\\x07\\x01A~<\\x1d\\x00(ON)\\x01I\\x1d\\x13O\\x04H\\x11R\\x17\\x06\\x07\\x14E5\\x0b\\x16M\\x0e\\x07\\x13\\x18O\\x01T7J\\x00!\\x00\\x10\\x07\\t\\x07Tb3A\\x00\\x06\\x05\\x1f\\x04t,\\x11\\x08I\\x07\\x12T\\x1c\\x17L4SNeR\\x08\\x00\\x03\\x00\\r\\x07\\x10\\x00\\x1e\\n\\x06\\x03\\t1E\\x13\\x1f\\x0cN\\x03\\x01\\x16\\x1bN\\x7f\\x1a*e1\\x08\\x1b\\x14ET\\x1f\\rYN\\x1b\\x01\\x16E2\\x17\\x17\\x0c\\x02\\x1dA\\x15\\x1d\\x17\\x002UC)\\x1b\\x07IGL\\x1d\\x03\\x00\\x00-\\x1d\\x08\\t\\x1ct\"\\x1e\\x18\\x0cNk9\\x00\\x04I6\\x1d\\x00#\\x1c\\rN\\x00R\\x1b\\x07\\x13I\\x00HI\\x07\\x17-\\x0c\\x1c\\nI\\x1a\\x0eT\\x1c\\x1bN?\\x1aA.\\x1d\\x07\\tG*5\\x04\\t\\x00\\x1a\\x07\\x1b\\x1c\\x103\\rR\\x19\\x01\\x0bA\\x13\\x07\\x17T,U\\x00%\\x00\\x06\\x01\\x11I\\x1aOET\\x06\\x06\\x1aS\\r1\\x17\\x17M\\x1a\\x01\\x0f\\x13Oxn7M\\x00;\\x1d\\x1cI\\x15ET\\t\\x08A\\x14\\n\\rS\\x07-E\\x06\\x05\\x0cN7=?RP7IS\\'\\\\Idms\\x00\\r\\x15P\\x07\\x01NS\\x16;E\\x1a\\x0c\\x1b\\nA\\x18\\x06\\x19Ex[\\x00\\x05\\x17\\x1b\\x03\\x06NT&\\x04Z\\x07Oc \\x115\\x17\\x06\\x01\\x0c\\nA\\x16\\x16RT0_\\x00 \\x13\\x1a\\x0b\\x14\\x00\\x1c\\x01\\x11T\\x07\\x01NS\\x02&\\n\\x07\\x03\\rNk \\x07\\x17R=\\x1dSb\\x1c\\x06N\\x13R\\x1d\\x18\\x15I\\x00HI\\x1c\\x0bt\\x08\\x1b\\x03\\x0cBA=H\\x1f\\x002OS6R\\x0e\\x0b\\x13T\\x1d\\x06B\\x00\\n\\x00\\x1e\\x1dE^6\\x02\\x0c\\x1b\\x05\\x00\\x19\\x0e\\x06I;\\x16\\x00\\x0bU\\x04N\\x0fA\\x1a\\x0f\\x0cNIO\\x1d\\x1a\\x02<\\x11R\\x01\\x00\\x05\\x04T\\x0eRF9TA6\\x1b\\nNmy\\x1b\\x1dET\\x1c\\x0e\\x19\\x03\\x000E\\x1f\\x08I\\x01\\x0f\\x17\\nRA6^\\x00\\x0bR\\x1d\\x06\\x08U\\x13\\x00\\x11\\x00\\x1a\\x07\\x08\\x07E^<\\x1d\\x18I\\x03\\x08\\x13\\x07\\x06\\x000[V\\'R\\x00\\x1aG*\\'\\x07ES\\x1a\\n\\x19S\\x01;\\x12\\x1cM\\x08\\x00\\x05T\\x03\\x17N<\\x1aM\\'R\\x10\\x01\\x12RT\\r\\x04RNeNK\\\\t\\x0c\\x1cM\\x04\\x17A\\x00\\x06\\x1fEy\\x1ay-\\x07EN@\\x19DH\\x0cSN\\x02\\x10S\\x1c1\\x04\\x00CIdk-\\x00\\x07\\x07*_\\x005\\x17\\x08\\x05\\x02N\\x1d\\x06B\\x00\\x08\\x0e\\x1a\\x07It<=LI\\x0f\\x0f\\x10O;\\x00;[Nb\\x06\\x0c\\x02\\x0b\\x00\\x1d\\x1cE*7\\x00\\x1c\\x01E6\\n\\x16\\x14N\\x1dA\\x13\\n\\x06T1T\\x07b\\x1a\\x06\\x1aK\\x00\\x07\\x07I\\x00\\x1d\\x00I:E7\\x04\\x1cM\\x1a\\x03\\x04\\x18\\x03RI,\\x1a*\\x11\\x1dI\\n\\x08NS\\x1cEB\\x0bO\\x04\\x12\\x01t\\x04\\x1c\\tI\\n\\x0e\\x1aH\\x06\\x00:_\\x001\\x13\\rNm\\x077\\t\\x10S\\x0bO\\x1d\\x1b\\x00t\\t\\x0b\\x1f\\x00\\r\\x12T\\r\\x17L7TGb\\x06\\x06N.c1DEy\\x01\\x1aI\\x10\\x04:E\\x11\\x0c\\x05\\x02A\\x19\\nRd9^\\x00H+\\x06\\x1b@R\\x11H\\x15I\\x1a\\x0c\\x01\\x1a\\x0bsE\\x13M\\x0f\\x07\\x15XO\\x01OxIT\\'\\x02I\\x0c\\x06C\\x1fH\\x04N\\nO\\x0c\\x1d\\x01!\\x17\\x17Mc\"\\x04\\x00O\\x06H=\\x1aW+\\x06\\n\\x06GD\\x1b\\x0b\\x11O\\x1cCI:\\x061IR\\t\\x06N\\x15\\x1c\\nRD9TC\\'R\\x1d\\x01GC\\x01\\x1a\\x00\\x00d<\\x06S\\x06;\\x08\\x17M\\x1c\\x1eA\\x17\\x03\\x1dS=\\x1aA,\\x16I\\n\\x08NS\\x1cEB\\x0bO\\x1a\\x02\\x105\\x17\\x17Mc7\\x0e\\x01O\\x05A6TAb\\x10\\x08\\x1a\\x13L\\x11H\\x08ENBDS$:\\x1c\\x06\\x04\\x04\\x0bMT\\x0e\\x1cY/RE0\\x17Idmy\\x1b\\x1dET\\x06\\x00\\x1c\\x14\\r E\\x06\\x05\\x08\\x1aA=O\\x05A+\\x1aW\\'\\x13\\x02BGb\\x1b\\x11I\\x00\\x17\\x00\\x1cT\\x171E\\x16\\x08\\x08\\nA\\x03\\x1d\\x1dN?\\x1a*\\x11\\x1dI\\r\\x08M\\x11H\\nNBO\\x0c\\x05\\x00&\\x1c\\x10\\x02\\r\\x17A\\x15\\x01\\x16\\x00+SN%R\\x1d\\x06\\x0eST\\x1b\\nN\\tOcy65\\x1cR@DN1\\x18\\x0e\\x0b\\x00,RA6R\\x0f\\x1b\\tK\\rH\\x08U\\x1d\\x06\\nS65\\x1c^M\\x0e\\x01A\\x03\\x07\\x1bT=\\x1aB-\\x0bEN\\x00OT\\x1f\\rI\\x1a\\nI\\x11\\n-E\\x15\\x02Id\\x11\\x18\\x0e\\x0b\\x00,RA6R\\x0f\\x1b\\tK\\rH\\x08U\\x1d\\x06\\nS\";E\\x05\\x05\\x00\\x1a\\x04T\\r\\x1dYt\\x1aG-R\\x1e\\x06\\x0eT\\x11H\\x07O\\x17CI\\x14\\nto>\\x0c\\x10N\\x05\\x1b\\x18\\x1c\\x009TDb\\x10\\x06\\x01\\x00I\\x11H\\x04N\\nO\\x19\\x1f\\x04-E\\x06\\x05\\x08\\x1aA\\x12\\x1a\\x1cK!\\x1aM7\\x01\\x00\\rGT\\x1d\\x04\\t\\x00\\x17\\x00\\x1cS\\x01=\\x00\\\\Mcd1\\x18\\x0e\\x0b\\x00,RA6R\\x0f\\x1b\\tK\\rH\\x08U\\x1d\\x06\\nS&;\\x08\\x17M\\x06\\x00MT,\\x1dM=\\x1aO,^I\\x02\\x02TT\\x05\\x00\\x00\\x06\\n\\x08\\x01E^5\\x1e\\x0c\\x10N\\x15\\x1c\\x0e\\x06\\x00>ON)\\x0bI\\x03\\x12S\\x1d\\x0bEW\\x06\\x06\\x1d\\x16E6\\n\\x0bM\\x10\\x01\\x14T\\x1c\\x13YxSTnR\\x1a\\x0f\\x1e\\x00\\x1d\\x1cE*>\\x03\\x08\\nE \\r\\x13\\x19I\\x08\\x14\\x1a\\x04\\x0b\\x005OS+\\x11I/GL\\x1d\\x1c\\x11L\\x0bO\\x05\\x1c\\x100\\x00\\x00M\\x07\\x01\\x16Te\"L9C\\x006\\x1a\\x08\\x1aGF\\x01\\x06\\x0eYN\\x02\\x1c\\x00\\x0c7IR\\x1a\\x01\\x07\\x15\\x11O\\x10O!\\x1ac-\\x1f\\x0cN\\x08NXH&O\\x03\\nI\\x1c\\x0bxE1\\x02\\x04\\x0bA\\x1b\\x01R*\\x08VA;R\\x1d\\x06\\x06TT\\x0e\\x10N\\x05\\x16I\\x1e\\x10\\'\\x0c\\x11Mc'"
      ]
     },
     "execution_count": 40,
     "metadata": {},
     "output_type": "execute_result"
    }
   ],
   "source": [
    "b64texts"
   ]
  },
  {
   "cell_type": "code",
   "execution_count": 49,
   "id": "1c5cdd94",
   "metadata": {},
   "outputs": [],
   "source": [
    "key=b'Terminator X: Bring the noise'"
   ]
  },
  {
   "cell_type": "code",
   "execution_count": 52,
   "id": "eea111ba",
   "metadata": {},
   "outputs": [],
   "source": [
    "def decrypt(b64,key:bytes()):\n",
    "    b64=base64.b64decode(b64)\n",
    "    return b''.join([bytes([x^y]) for x,y in zip(b64,key*len(b64))])\n"
   ]
  },
  {
   "cell_type": "code",
   "execution_count": 53,
   "id": "baff317a",
   "metadata": {},
   "outputs": [
    {
     "name": "stdout",
     "output_type": "stream",
     "text": [
      "b\"I'm back and I'm ringin' the bell \\nA rockin' on the mike while the fly girls yell \\nIn ecstasy in the back of me \\nWell that's my DJ Deshay cuttin' all them Z's \\nHittin' hard and the girlies goin' crazy \\nVanilla's on the mike, man I'm not lazy. \\n\\nI'm lettin' my drug kick in \\nIt controls my mouth and I begin \\nTo just let it flow, let my concepts go \\nMy posse's to the side yellin', Go Vanilla Go! \\n\\nSmooth 'cause that's the way I will be \\nAnd if you don't give a damn, then \\nWhy you starin' at me \\nSo get off 'cause I control the stage \\nThere's no dissin' allowed \\nI'm in my own phase \\nThe girlies sa y they love me and that is ok \\nAnd I can dance better than any kid n' play \\n\\nStage 2 -- Yea the one ya' wanna listen to \\nIt's off my head so let the beat play through \\nSo I can funk it up and make it sound good \\n1-2-3 Yo -- Knock on some wood \\nFor good luck, I like my rhymes atrocious \\nSupercalafragilisticexpialidocious \\nI'm an effect and that you can bet \\nI can take a fly girl and make her wet. \\n\\nI'm like Samson -- Samson to Delilah \\nThere's no denyin', You can try to hang \\nBut you'll keep tryin' to get my style \\nOver and over, practice makes perfect \\nBut not if you're a loafer. \\n\\nYou'll get nowhere, no place, no time, no girls \\nSoon -- Oh my God, homebody, you probably eat \\nSpaghetti with a spoon! Come on and say it! \\n\\nVIP. Vanilla Ice yep, yep, I'm comin' hard like a rhino \\nIntoxicating so you stagger like a wino \\nSo punks stop trying and girl stop cryin' \\nVanilla Ice is sellin' and you people are buyin' \\n'Cause why the freaks are jockin' like Crazy Glue \\nMovin' and groovin' trying to sing along \\nAll through the ghetto groovin' this here song \\nNow you're amazed by the VIP posse. \\n\\nSteppin' so hard like a German Nazi \\nStartled by the bases hittin' ground \\nThere's no trippin' on mine, I'm just gettin' down \\nSparkamatic, I'm hangin' tight like a fanatic \\nYou trapped me once and I thought that \\nYou might have it \\nSo step down and lend me your ear \\n'89 in my time! You, '90 is my year. \\n\\nYou're weakenin' fast, YO! and I can tell it \\nYour body's gettin' hot, so, so I can smell it \\nSo don't be mad and don't be sad \\n'Cause the lyrics belong to ICE, You can call me Dad \\nYou're pitchin' a fit, so step back and endure \\nLet the witch doctor, Ice, do the dance to cure \\nSo come up close and don't be square \\nYou wanna battle me -- Anytime, anywhere \\n\\nYou thought that I was weak, Boy, you're dead wrong \\nSo come on, everybody and sing this song \\n\\nSay -- Play that funky music Say, go white boy, go white boy go \\nplay that funky music Go white boy, go white boy, go \\nLay down and boogie and play that funky music till you die. \\n\\nPlay that funky music Come on, Come on, let me hear \\nPlay that funky music white boy you say it, say it \\nPlay that funky music A little louder now \\nPlay that funky music, white boy Come on, Come on, Come on \\nPlay that funky music \\n\"\n"
     ]
    }
   ],
   "source": [
    "print(decrypt(b64texts,key))"
   ]
  },
  {
   "cell_type": "code",
   "execution_count": 30,
   "id": "5ac7967e",
   "metadata": {},
   "outputs": [
    {
     "name": "stdout",
     "output_type": "stream",
     "text": [
      "Key: b'Terminator X: Bring the noise'\n",
      "Message: b\"I'm back and I'm ringin' the bell \\nA rockin' on the mike while the fly girls yell \\nIn ecstasy in the back of me \\nWell that's my DJ Deshay cuttin' all them Z's \\nHittin' hard and the girlies goin' crazy \\nVanilla's on the mike, man I'm not lazy. \\n\\nI'm lettin' my drug kick in \\nIt controls my mouth and I begin \\nTo just let it flow, let my concepts go \\nMy posse's to the side yellin', Go Vanilla Go! \\n\\nSmooth 'cause that's the way I will be \\nAnd if you don't give a damn, then \\nWhy you starin' at me \\nSo get off 'cause I control the stage \\nThere's no dissin' allowed \\nI'm in my own phase \\nThe girlies sa y they love me and that is ok \\nAnd I can dance better than any kid n' play \\n\\nStage 2 -- Yea the one ya' wanna listen to \\nIt's off my head so let the beat play through \\nSo I can funk it up and make it sound good \\n1-2-3 Yo -- Knock on some wood \\nFor good luck, I like my rhymes atrocious \\nSupercalafragilisticexpialidocious \\nI'm an effect and that you can bet \\nI can take a fly girl and make her wet. \\n\\nI'm like Samson -- Samson to Delilah \\nThere's no denyin', You can try to hang \\nBut you'll keep tryin' to get my style \\nOver and over, practice makes perfect \\nBut not if you're a loafer. \\n\\nYou'll get nowhere, no place, no time, no girls \\nSoon -- Oh my God, homebody, you probably eat \\nSpaghetti with a spoon! Come on and say it! \\n\\nVIP. Vanilla Ice yep, yep, I'm comin' hard like a rhino \\nIntoxicating so you stagger like a wino \\nSo punks stop trying and girl stop cryin' \\nVanilla Ice is sellin' and you people are buyin' \\n'Cause why the freaks are jockin' like Crazy Glue \\nMovin' and groovin' trying to sing along \\nAll through the ghetto groovin' this here song \\nNow you're amazed by the VIP posse. \\n\\nSteppin' so hard like a German Nazi \\nStartled by the bases hittin' ground \\nThere's no trippin' on mine, I'm just gettin' down \\nSparkamatic, I'm hangin' tight like a fanatic \\nYou trapped me once and I thought that \\nYou might have it \\nSo step down and lend me your ear \\n'89 in my time! You, '90 is my year. \\n\\nYou're weakenin' fast, YO! and I can tell it \\nYour body's gettin' hot, so, so I can smell it \\nSo don't be mad and don't be sad \\n'Cause the lyrics belong to ICE, You can call me Dad \\nYou're pitchin' a fit, so step back and endure \\nLet the witch doctor, Ice, do the dance to cure \\nSo come up close and don't be square \\nYou wanna battle me -- Anytime, anywhere \\n\\nYou thought that I was weak, Boy, you're dead wrong \\nSo come on, everybody and sing this song \\n\\nSay -- Play that funky music Say, go white boy, go white boy go \\nplay that funky music Go white boy, go white boy, go \\nLay down and boogie and play that funky music till you die. \\n\\nPlay that funky music Come on, Come on, let me hear \\nPlay that funky music white boy you say it, say it \\nPlay that funky music A little louder now \\nPlay that funky music, white boy Come on, Come on, Come on \\nPlay that funky music \\n\"\n"
     ]
    }
   ],
   "source": [
    "\n",
    "import base64\n",
    "\n",
    "\n",
    "def get_english_score(input_bytes):\n",
    "    \"\"\"Compares each input byte to a character frequency \n",
    "    chart and returns the score of a message based on the\n",
    "    relative frequency the characters occur in the English\n",
    "    language.\n",
    "    \"\"\"\n",
    "\n",
    "    # From https://en.wikipedia.org/wiki/Letter_frequency\n",
    "    # with the exception of ' ', which I estimated.\n",
    "    character_frequencies = {\n",
    "        'a': .08167, 'b': .01492, 'c': .02782, 'd': .04253,\n",
    "        'e': .12702, 'f': .02228, 'g': .02015, 'h': .06094,\n",
    "        'i': .06094, 'j': .00153, 'k': .00772, 'l': .04025,\n",
    "        'm': .02406, 'n': .06749, 'o': .07507, 'p': .01929,\n",
    "        'q': .00095, 'r': .05987, 's': .06327, 't': .09056,\n",
    "        'u': .02758, 'v': .00978, 'w': .02360, 'x': .00150,\n",
    "        'y': .01974, 'z': .00074, ' ': .13000\n",
    "    }\n",
    "    return sum([character_frequencies.get(chr(byte), 0) for byte in input_bytes.lower()])\n",
    "\n",
    "\n",
    "def single_char_xor(input_bytes, char_value):\n",
    "    \"\"\"Returns the result of each byte being XOR'd with a single value.\n",
    "    \"\"\"\n",
    "    output_bytes = b''\n",
    "    for byte in input_bytes:\n",
    "        output_bytes += bytes([byte ^ char_value])\n",
    "    return output_bytes\n",
    "\n",
    "\n",
    "def bruteforce_single_char_xor(ciphertext):\n",
    "    \"\"\"Performs a singlechar xor for each possible value(0,255), and\n",
    "    assigns a score based on character frequency. Returns the result\n",
    "    with the highest score.\n",
    "    \"\"\"\n",
    "    potential_messages = []\n",
    "    for key_value in range(256):\n",
    "        message = single_char_xor(ciphertext, key_value)\n",
    "        score = get_english_score(message)\n",
    "        data = {\n",
    "            'message': message,\n",
    "            'score': score,\n",
    "            'key': key_value\n",
    "            }\n",
    "        potential_messages.append(data)\n",
    "    return sorted(potential_messages, key=lambda x: x['score'], reverse=True)[0]\n",
    "\n",
    "\n",
    "def break_repeating_key_xor(ciphertext):\n",
    "    \"\"\"Attempts to break repeating-key XOR encryption.\n",
    "    \"\"\"\n",
    "    average_distances = []\n",
    "\n",
    "    # Take the keysize from suggested range \n",
    "    for keysize in range(2,41):\n",
    "\n",
    "        # Initialize list to store Hamming distances for this keysize \n",
    "        distances = []\n",
    "\n",
    "        # Break the ciphertext into chunks the length of the keysize\n",
    "        chunks = [ciphertext[i:i+keysize] for i in range(0, len(ciphertext), keysize)]\n",
    "        \n",
    "        while True:\n",
    "            try:\n",
    "                # Take the two chunks at the beginning of the list and \n",
    "                # get the Hamming distance \n",
    "                chunk_1 = chunks[0]\n",
    "                chunk_2 = chunks[1]\n",
    "                distance = calculate_hamming_distance(chunk_1, chunk_2)\n",
    "\n",
    "                # Normalize this result by dividing by KEYSIZE\n",
    "                distances.append(distance/keysize)\n",
    "\n",
    "                # Remove these chunks so when the loop starts over, the\n",
    "                # Hamming distance for the next two chunks can be calculated\n",
    "                del chunks[0]\n",
    "                del chunks[1]\n",
    "\n",
    "            # When an exception occurs (indicating all chunks have \n",
    "            # been processed) break out of the loop.\n",
    "            except Exception as e:\n",
    "                break\n",
    "        result = {\n",
    "            'key': keysize,\n",
    "            'avg distance': sum(distances) / len(distances)\n",
    "            }\n",
    "        average_distances.append(result)\n",
    "    possible_key_lengths = sorted(average_distances, key=lambda x: x['avg distance'])[0]\n",
    "    possible_plaintext = []\n",
    "\n",
    "    # Will populate with a single character as each transposed \n",
    "    # block has been single-byte XOR brute forced\n",
    "    key = b''\n",
    "    possible_key_length = possible_key_lengths['key']\n",
    "    for i in range(possible_key_length):\n",
    "        \n",
    "        # Creates an block made up of each nth byte, where n\n",
    "        # is the keysize\n",
    "        block = b''\n",
    "        for j in range(i, len(ciphertext), possible_key_length):\n",
    "            block += bytes([ciphertext[j]])\n",
    "        key += bytes([bruteforce_single_char_xor(block)['key']]) \n",
    "    possible_plaintext.append((repeating_key_xor(ciphertext, key), key)) \n",
    "    return max(possible_plaintext, key=lambda x: get_english_score(x[0]))\n",
    "\n",
    "\n",
    "def repeating_key_xor(message_bytes, key):\n",
    "    \"\"\"Returns message XOR'd with a key. If the message, is longer\n",
    "    than the key, the key will repeat.\n",
    "    \"\"\"\n",
    "    output_bytes = b''\n",
    "    index = 0\n",
    "    for byte in message_bytes:\n",
    "        output_bytes += bytes([byte ^ key[index]])\n",
    "        if (index + 1) == len(key):\n",
    "            index = 0\n",
    "        else:\n",
    "            index += 1\n",
    "    return output_bytes\n",
    "\n",
    "\n",
    "def calculate_hamming_distance(input_bytes_1, input_bytes_2):\n",
    "    \"\"\"Finds and returns the Hamming distance (number of differing \n",
    "    bits) between two byte-strings\n",
    "    \"\"\"\n",
    "    hamming_distance = 0\n",
    "    for b1, b2 in zip(input_bytes_1, input_bytes_2):\n",
    "        difference = b1 ^ b2\n",
    "\n",
    "        # Count the number of differences ('1's) and add to the hamming distance\n",
    "        hamming_distance += sum([1 for bit in bin(difference) if bit == '1'])\n",
    "    return hamming_distance\n",
    "\n",
    "\n",
    "def main():\n",
    "    with open('6.txt') as input_file:\n",
    "        ciphertext = base64.b64decode(input_file.read())\n",
    "    result, key = break_repeating_key_xor(ciphertext)\n",
    "    print(\"Key: {}\\nMessage: {}\".format(key, result))\n",
    "\n",
    "\n",
    "if __name__ == '__main__':\n",
    "    main()"
   ]
  },
  {
   "cell_type": "code",
   "execution_count": 32,
   "id": "4360e90b",
   "metadata": {},
   "outputs": [
    {
     "ename": "NameError",
     "evalue": "name 'ciphertext' is not defined",
     "output_type": "error",
     "traceback": [
      "\u001b[1;31m---------------------------------------------------------------------------\u001b[0m",
      "\u001b[1;31mNameError\u001b[0m                                 Traceback (most recent call last)",
      "\u001b[1;32m~\\AppData\\Local\\Temp/ipykernel_4044/3168997363.py\u001b[0m in \u001b[0;36m<module>\u001b[1;34m\u001b[0m\n\u001b[1;32m----> 1\u001b[1;33m \u001b[0mciphertext\u001b[0m\u001b[1;33m\u001b[0m\u001b[1;33m\u001b[0m\u001b[0m\n\u001b[0m",
      "\u001b[1;31mNameError\u001b[0m: name 'ciphertext' is not defined"
     ]
    }
   ],
   "source": [
    "ciphertext"
   ]
  },
  {
   "cell_type": "code",
   "execution_count": null,
   "id": "eb52c781",
   "metadata": {},
   "outputs": [],
   "source": [
    "def check_scores(sorted_text):\n",
    "    occurance_english={\n",
    "        'a': 8.2389258,    'b': 1.5051398,    'c': 2.8065007,    'd': 4.2904556,\n",
    "        'e': 12.813865,    'f': 2.2476217,    'g': 2.0327458,    'h': 6.1476691,\n",
    "        'i': 6.1476691,    'j': 0.1543474,    'k': 0.7787989,    'l': 4.0604477,\n",
    "        'm': 2.4271893,    'n': 6.8084376,    'o': 7.5731132,    'p': 1.9459884,\n",
    "        'q': 0.0958366,    'r': 6.0397268,    's': 6.3827211,    't': 9.1357551,\n",
    "        'u': 2.7822893,    'v': 0.9866131,    'w': 2.3807842,    'x': 0.1513210,\n",
    "        'y': 1.9913847,    'z': 0.0746517\n",
    "        }\n",
    "      \n",
    "    return score"
   ]
  },
  {
   "cell_type": "code",
   "execution_count": 54,
   "id": "33a7e4f4",
   "metadata": {},
   "outputs": [],
   "source": [
    "occurance_english={\n",
    "        'a': 8.2389258,    'b': 1.5051398,    'c': 2.8065007,    'd': 4.2904556,\n",
    "        'e': 12.813865,    'f': 2.2476217,    'g': 2.0327458,    'h': 6.1476691,\n",
    "        'i': 6.1476691,    'j': 0.1543474,    'k': 0.7787989,    'l': 4.0604477,\n",
    "        'm': 2.4271893,    'n': 6.8084376,    'o': 7.5731132,    'p': 1.9459884,\n",
    "        'q': 0.0958366,    'r': 6.0397268,    's': 6.3827211,    't': 9.1357551,\n",
    "        'u': 2.7822893,    'v': 0.9866131,    'w': 2.3807842,    'x': 0.1513210,\n",
    "        'y': 1.9913847,    'z': 0.0746517\n",
    "        }"
   ]
  },
  {
   "cell_type": "code",
   "execution_count": 59,
   "id": "d6d78cdb",
   "metadata": {},
   "outputs": [],
   "source": [
    "bb=base64.b64decode('HUIfTQsPAh9PE048GmllH0kcDk4TAQsHThsBFkU2AB4BSWQgVB0dQzNTTmVS')"
   ]
  },
  {
   "cell_type": "code",
   "execution_count": 60,
   "id": "a1c86900",
   "metadata": {},
   "outputs": [
    {
     "data": {
      "text/plain": [
       "b'\\x1dB\\x1fM\\x0b\\x0f\\x02\\x1fO\\x13N<\\x1aie\\x1fI\\x1c\\x0eN\\x13\\x01\\x0b\\x07N\\x1b\\x01\\x16E6\\x00\\x1e\\x01Id T\\x1d\\x1dC3SNeR'"
      ]
     },
     "execution_count": 60,
     "metadata": {},
     "output_type": "execute_result"
    }
   ],
   "source": [
    "bb"
   ]
  },
  {
   "cell_type": "code",
   "execution_count": 61,
   "id": "cc5c4d7c",
   "metadata": {},
   "outputs": [
    {
     "data": {
      "text/plain": [
       "124.2789543"
      ]
     },
     "execution_count": 61,
     "metadata": {},
     "output_type": "execute_result"
    }
   ],
   "source": [
    "sum([occurance_english.get(chr(byte),0) for byte in bb.lower()])"
   ]
  },
  {
   "cell_type": "code",
   "execution_count": 9,
   "id": "1a5fc911",
   "metadata": {},
   "outputs": [
    {
     "data": {
      "text/plain": [
       "<map at 0x7fe8a00779a0>"
      ]
     },
     "execution_count": 9,
     "metadata": {},
     "output_type": "execute_result"
    }
   ],
   "source": [
    "map(lambda byte: [chr(byte^num) for num in range(0,255)],[97])"
   ]
  },
  {
   "cell_type": "code",
   "execution_count": 7,
   "id": "d963625d",
   "metadata": {},
   "outputs": [
    {
     "data": {
      "text/plain": [
       "['a',\n",
       " '`',\n",
       " 'c',\n",
       " 'b',\n",
       " 'e',\n",
       " 'd',\n",
       " 'g',\n",
       " 'f',\n",
       " 'i',\n",
       " 'h',\n",
       " 'k',\n",
       " 'j',\n",
       " 'm',\n",
       " 'l',\n",
       " 'o',\n",
       " 'n',\n",
       " 'q',\n",
       " 'p',\n",
       " 's',\n",
       " 'r',\n",
       " 'u',\n",
       " 't',\n",
       " 'w',\n",
       " 'v',\n",
       " 'y',\n",
       " 'x',\n",
       " '{',\n",
       " 'z',\n",
       " '}',\n",
       " '|',\n",
       " '\\x7f',\n",
       " '~',\n",
       " 'A',\n",
       " '@',\n",
       " 'C',\n",
       " 'B',\n",
       " 'E',\n",
       " 'D',\n",
       " 'G',\n",
       " 'F',\n",
       " 'I',\n",
       " 'H',\n",
       " 'K',\n",
       " 'J',\n",
       " 'M',\n",
       " 'L',\n",
       " 'O',\n",
       " 'N',\n",
       " 'Q',\n",
       " 'P',\n",
       " 'S',\n",
       " 'R',\n",
       " 'U',\n",
       " 'T',\n",
       " 'W',\n",
       " 'V',\n",
       " 'Y',\n",
       " 'X',\n",
       " '[',\n",
       " 'Z',\n",
       " ']',\n",
       " '\\\\',\n",
       " '_',\n",
       " '^',\n",
       " '!',\n",
       " ' ',\n",
       " '#',\n",
       " '\"',\n",
       " '%',\n",
       " '$',\n",
       " \"'\",\n",
       " '&',\n",
       " ')',\n",
       " '(',\n",
       " '+',\n",
       " '*',\n",
       " '-',\n",
       " ',',\n",
       " '/',\n",
       " '.',\n",
       " '1',\n",
       " '0',\n",
       " '3',\n",
       " '2',\n",
       " '5',\n",
       " '4',\n",
       " '7',\n",
       " '6',\n",
       " '9',\n",
       " '8',\n",
       " ';',\n",
       " ':',\n",
       " '=',\n",
       " '<',\n",
       " '?',\n",
       " '>',\n",
       " '\\x01',\n",
       " '\\x00',\n",
       " '\\x03',\n",
       " '\\x02',\n",
       " '\\x05',\n",
       " '\\x04',\n",
       " '\\x07',\n",
       " '\\x06',\n",
       " '\\t',\n",
       " '\\x08',\n",
       " '\\x0b',\n",
       " '\\n',\n",
       " '\\r',\n",
       " '\\x0c',\n",
       " '\\x0f',\n",
       " '\\x0e',\n",
       " '\\x11',\n",
       " '\\x10',\n",
       " '\\x13',\n",
       " '\\x12',\n",
       " '\\x15',\n",
       " '\\x14',\n",
       " '\\x17',\n",
       " '\\x16',\n",
       " '\\x19',\n",
       " '\\x18',\n",
       " '\\x1b',\n",
       " '\\x1a',\n",
       " '\\x1d',\n",
       " '\\x1c',\n",
       " '\\x1f',\n",
       " '\\x1e',\n",
       " 'á',\n",
       " 'à',\n",
       " 'ã',\n",
       " 'â',\n",
       " 'å',\n",
       " 'ä',\n",
       " 'ç',\n",
       " 'æ',\n",
       " 'é',\n",
       " 'è',\n",
       " 'ë',\n",
       " 'ê',\n",
       " 'í',\n",
       " 'ì',\n",
       " 'ï',\n",
       " 'î',\n",
       " 'ñ',\n",
       " 'ð',\n",
       " 'ó',\n",
       " 'ò',\n",
       " 'õ',\n",
       " 'ô',\n",
       " '÷',\n",
       " 'ö',\n",
       " 'ù',\n",
       " 'ø',\n",
       " 'û',\n",
       " 'ú',\n",
       " 'ý',\n",
       " 'ü',\n",
       " 'ÿ',\n",
       " 'þ',\n",
       " 'Á',\n",
       " 'À',\n",
       " 'Ã',\n",
       " 'Â',\n",
       " 'Å',\n",
       " 'Ä',\n",
       " 'Ç',\n",
       " 'Æ',\n",
       " 'É',\n",
       " 'È',\n",
       " 'Ë',\n",
       " 'Ê',\n",
       " 'Í',\n",
       " 'Ì',\n",
       " 'Ï',\n",
       " 'Î',\n",
       " 'Ñ',\n",
       " 'Ð',\n",
       " 'Ó',\n",
       " 'Ò',\n",
       " 'Õ',\n",
       " 'Ô',\n",
       " '×',\n",
       " 'Ö',\n",
       " 'Ù',\n",
       " 'Ø',\n",
       " 'Û',\n",
       " 'Ú',\n",
       " 'Ý',\n",
       " 'Ü',\n",
       " 'ß',\n",
       " 'Þ',\n",
       " '¡',\n",
       " '\\xa0',\n",
       " '£',\n",
       " '¢',\n",
       " '¥',\n",
       " '¤',\n",
       " '§',\n",
       " '¦',\n",
       " '©',\n",
       " '¨',\n",
       " '«',\n",
       " 'ª',\n",
       " '\\xad',\n",
       " '¬',\n",
       " '¯',\n",
       " '®',\n",
       " '±',\n",
       " '°',\n",
       " '³',\n",
       " '²',\n",
       " 'µ',\n",
       " '´',\n",
       " '·',\n",
       " '¶',\n",
       " '¹',\n",
       " '¸',\n",
       " '»',\n",
       " 'º',\n",
       " '½',\n",
       " '¼',\n",
       " '¿',\n",
       " '¾',\n",
       " '\\x81',\n",
       " '\\x80',\n",
       " '\\x83',\n",
       " '\\x82',\n",
       " '\\x85',\n",
       " '\\x84',\n",
       " '\\x87',\n",
       " '\\x86',\n",
       " '\\x89',\n",
       " '\\x88',\n",
       " '\\x8b',\n",
       " '\\x8a',\n",
       " '\\x8d',\n",
       " '\\x8c',\n",
       " '\\x8f',\n",
       " '\\x8e',\n",
       " '\\x91',\n",
       " '\\x90',\n",
       " '\\x93',\n",
       " '\\x92',\n",
       " '\\x95',\n",
       " '\\x94',\n",
       " '\\x97',\n",
       " '\\x96',\n",
       " '\\x99',\n",
       " '\\x98',\n",
       " '\\x9b',\n",
       " '\\x9a',\n",
       " '\\x9d',\n",
       " '\\x9c',\n",
       " '\\x9f']"
      ]
     },
     "execution_count": 7,
     "metadata": {},
     "output_type": "execute_result"
    }
   ],
   "source": [
    "m(97)"
   ]
  },
  {
   "cell_type": "code",
   "execution_count": 10,
   "id": "42bbcd7f",
   "metadata": {},
   "outputs": [
    {
     "data": {
      "text/plain": [
       "29"
      ]
     },
     "execution_count": 10,
     "metadata": {},
     "output_type": "execute_result"
    }
   ],
   "source": [
    "len(b'Terminator X: Bring the noise')"
   ]
  },
  {
   "cell_type": "code",
   "execution_count": 73,
   "id": "ad1c125e",
   "metadata": {},
   "outputs": [
    {
     "data": {
      "text/plain": [
       "b''"
      ]
     },
     "execution_count": 73,
     "metadata": {},
     "output_type": "execute_result"
    }
   ],
   "source": []
  },
  {
   "cell_type": "code",
   "execution_count": null,
   "id": "a422fe3e",
   "metadata": {},
   "outputs": [],
   "source": []
  }
 ],
 "metadata": {
  "kernelspec": {
   "display_name": "Python 3",
   "language": "python",
   "name": "python3"
  },
  "language_info": {
   "codemirror_mode": {
    "name": "ipython",
    "version": 3
   },
   "file_extension": ".py",
   "mimetype": "text/x-python",
   "name": "python",
   "nbconvert_exporter": "python",
   "pygments_lexer": "ipython3",
   "version": "3.8.8"
  }
 },
 "nbformat": 4,
 "nbformat_minor": 5
}
